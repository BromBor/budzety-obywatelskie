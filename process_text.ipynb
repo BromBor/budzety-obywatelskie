{
 "cells": [
  {
   "cell_type": "code",
   "execution_count": 1,
   "metadata": {
    "colab": {
     "base_uri": "https://localhost:8080/",
     "height": 401
    },
    "executionInfo": {
     "elapsed": 7718,
     "status": "error",
     "timestamp": 1639611267275,
     "user": {
      "displayName": "Bernard Reszczyński",
      "photoUrl": "https://lh3.googleusercontent.com/a/default-user=s64",
      "userId": "07856091905114146442"
     },
     "user_tz": -60
    },
    "id": "0dTRKBsnF3g1",
    "outputId": "d26ae320-2d65-4536-e0a2-75714e919d68"
   },
   "outputs": [
    {
     "name": "stderr",
     "output_type": "stream",
     "text": [
      "2021-12-27 00:25:12.854071: W tensorflow/stream_executor/platform/default/dso_loader.cc:64] Could not load dynamic library 'libcudart.so.11.0'; dlerror: libcudart.so.11.0: cannot open shared object file: No such file or directory\n",
      "2021-12-27 00:25:12.854127: I tensorflow/stream_executor/cuda/cudart_stub.cc:29] Ignore above cudart dlerror if you do not have a GPU set up on your machine.\n"
     ]
    }
   ],
   "source": [
    "import pandas as pd\n",
    "import numpy as np\n",
    "import re\n",
    "from tqdm.notebook import tqdm\n",
    "from autocorrect import Speller\n",
    "from bud_lib import *\n",
    "pd.set_option('display.max_colwidth', None)\n",
    "pd.set_option('display.max_rows', None)\n",
    "spell = Speller('pl')\n",
    "tqdm.pandas()"
   ]
  },
  {
   "cell_type": "code",
   "execution_count": 2,
   "metadata": {
    "colab": {
     "base_uri": "https://localhost:8080/",
     "height": 206
    },
    "executionInfo": {
     "elapsed": 1612,
     "status": "ok",
     "timestamp": 1639421175067,
     "user": {
      "displayName": "Bernard Reszczyński",
      "photoUrl": "https://lh3.googleusercontent.com/a/default-user=s64",
      "userId": "07856091905114146442"
     },
     "user_tz": -60
    },
    "id": "YsYQktMkF_Me",
    "outputId": "65dbd2c9-6bf3-4968-9736-462ec4b4d4d9"
   },
   "outputs": [],
   "source": [
    "logs = pd.read_csv('budzety_clean.csv')"
   ]
  },
  {
   "cell_type": "code",
   "execution_count": 3,
   "metadata": {
    "colab": {
     "base_uri": "https://localhost:8080/",
     "height": 363
    },
    "executionInfo": {
     "elapsed": 60873,
     "status": "ok",
     "timestamp": 1639423008506,
     "user": {
      "displayName": "Bernard Reszczyński",
      "photoUrl": "https://lh3.googleusercontent.com/a/default-user=s64",
      "userId": "07856091905114146442"
     },
     "user_tz": -60
    },
    "id": "QEhCDtpkhQNs",
    "outputId": "fa14bb2d-4ba8-4e9e-fc3d-7a9238162ed8",
    "scrolled": true
   },
   "outputs": [
    {
     "name": "stderr",
     "output_type": "stream",
     "text": [
      "/home/br/.local/lib/python3.7/site-packages/ipykernel_launcher.py:1: FutureWarning: The default value of regex will change from True to False in a future version.\n",
      "  \"\"\"Entry point for launching an IPython kernel.\n"
     ]
    },
    {
     "data": {
      "application/vnd.jupyter.widget-view+json": {
       "model_id": "6a0600abd39d46d29c819aebf7cd6815",
       "version_major": 2,
       "version_minor": 0
      },
      "text/plain": [
       "  0%|          | 0/100 [00:00<?, ?it/s]"
      ]
     },
     "metadata": {},
     "output_type": "display_data"
    },
    {
     "data": {
      "application/vnd.jupyter.widget-view+json": {
       "model_id": "a804b973cbfb45daa2f46eeeb608767e",
       "version_major": 2,
       "version_minor": 0
      },
      "text/plain": [
       "  0%|          | 0/100 [00:00<?, ?it/s]"
      ]
     },
     "metadata": {},
     "output_type": "display_data"
    }
   ],
   "source": [
    "logs['nazwa'] = logs['nazwa'].str.replace('[^\\.|\\w|\\s]', '')\n",
    "logs[\"nazwa\"] = logs[\"nazwa\"].progress_apply( lambda x: spell(x))# autocorrect\n",
    "logs[\"sentence\"] = logs[\"nazwa\"].progress_apply( lambda x: process(x) )"
   ]
  },
  {
   "cell_type": "code",
   "execution_count": 4,
   "metadata": {},
   "outputs": [],
   "source": [
    "# logs.to_csv('budzet_dataset.csv', index=False)"
   ]
  }
 ],
 "metadata": {
  "colab": {
   "authorship_tag": "ABX9TyO9GwwBoEponw+Q0+38+K00",
   "name": "budzet2.ipynb",
   "provenance": []
  },
  "kernelspec": {
   "display_name": "Python 3 (ipykernel)",
   "language": "python",
   "name": "python3"
  },
  "language_info": {
   "codemirror_mode": {
    "name": "ipython",
    "version": 3
   },
   "file_extension": ".py",
   "mimetype": "text/x-python",
   "name": "python",
   "nbconvert_exporter": "python",
   "pygments_lexer": "ipython3",
   "version": "3.7.5"
  }
 },
 "nbformat": 4,
 "nbformat_minor": 1
}
